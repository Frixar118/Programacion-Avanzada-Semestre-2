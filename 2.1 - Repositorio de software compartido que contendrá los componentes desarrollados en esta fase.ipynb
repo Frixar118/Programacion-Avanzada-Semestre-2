{
  "metadata": {
    "language_info": {
      "codemirror_mode": {
        "name": "python",
        "version": 3
      },
      "file_extension": ".py",
      "mimetype": "text/x-python",
      "name": "python",
      "nbconvert_exporter": "python",
      "pygments_lexer": "ipython3",
      "version": "3.8"
    },
    "kernelspec": {
      "name": "python",
      "display_name": "Python (Pyodide)",
      "language": "python"
    }
  },
  "nbformat_minor": 4,
  "nbformat": 4,
  "cells": [
    {
      "cell_type": "code",
      "source": "# Definición de la clase Persona\nclass Persona:\n    # Método constructor que inicializa los atributos\n    def __init__(self, nombre, edad):\n        self.nombre = nombre\n        self.edad = edad\n\n    # Método para saludar\n    def saludar(self):\n        print(f\"Hola, soy {self.nombre} y tengo {self.edad} años.\")\n\n# Crear un objeto de la clase Persona\npersona1 = Persona(nombre=\"Juan\", edad=25)\n\n# Acceder a los atributos y llamar al método\nnombre_persona1 = persona1.nombre\nedad_persona1 = persona1.edad\n\n# Llamar al método saludar\npersona1.saludar()\n",
      "metadata": {
        "trusted": true
      },
      "execution_count": 2,
      "outputs": [
        {
          "name": "stdout",
          "text": "Hola, soy Juan y tengo 25 años.\n",
          "output_type": "stream"
        }
      ]
    },
    {
      "cell_type": "code",
      "source": "",
      "metadata": {},
      "execution_count": null,
      "outputs": []
    }
  ]
}