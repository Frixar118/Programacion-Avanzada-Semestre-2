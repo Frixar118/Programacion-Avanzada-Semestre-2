{
  "metadata": {
    "language_info": {
      "codemirror_mode": {
        "name": "python",
        "version": 3
      },
      "file_extension": ".py",
      "mimetype": "text/x-python",
      "name": "python",
      "nbconvert_exporter": "python",
      "pygments_lexer": "ipython3",
      "version": "3.8"
    },
    "kernelspec": {
      "name": "python",
      "display_name": "Python (Pyodide)",
      "language": "python"
    }
  },
  "nbformat_minor": 4,
  "nbformat": 4,
  "cells": [
    {
      "cell_type": "code",
      "source": "class Rectangulo:\n    def __init__(self, longitud, ancho):\n        # Método constructor que inicializa la clase con los valores proporcionados\n        self.longitud = longitud\n        self.ancho = ancho\n\n    @property\n    def obtener_longitud(self):\n        # Propiedad para obtener la longitud\n        return self.longitud\n\n    @property\n    def obtener_ancho(self):\n        # Propiedad para obtener el ancho\n        return self.ancho\n\n    def calcular_area(self):\n        # Método para calcular el área del rectángulo\n        return self.longitud * self.ancho\n\n    def calcular_perimetro(self):\n        # Método para calcular el perímetro del rectángulo\n        return 2 * (self.longitud + self.ancho)\n\n# Crear una instancia de la clase Rectangulo\nmi_rectangulo = Rectangulo(5, 10)\n\n# Acceder a propiedades\nlongitud_rectangulo = mi_rectangulo.obtener_longitud\nancho_rectangulo = mi_rectangulo.obtener_ancho\n\n# Calcular área y perímetro\narea = mi_rectangulo.calcular_area()\nperimetro = mi_rectangulo.calcular_perimetro()\n\n# Imprimir información\nprint(f\"Longitud: {longitud_rectangulo}, Ancho: {ancho_rectangulo}\")\nprint(f\"Área: {area}, Perímetro: {perimetro}\")\n",
      "metadata": {
        "trusted": true
      },
      "execution_count": 1,
      "outputs": [
        {
          "name": "stdout",
          "text": "Longitud: 5, Ancho: 10\nÁrea: 50, Perímetro: 30\n",
          "output_type": "stream"
        }
      ]
    },
    {
      "cell_type": "code",
      "source": "",
      "metadata": {},
      "execution_count": null,
      "outputs": []
    }
  ]
}
